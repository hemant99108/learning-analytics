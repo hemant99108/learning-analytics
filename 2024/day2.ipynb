{
 "cells": [
  {
   "cell_type": "raw",
   "id": "11057900",
   "metadata": {},
   "source": [
    "wap to perform following operations on the list given below \n",
    "    check the length of mix_list1\n",
    "    check the membership of 24 mix_list1\n",
    "    concat the mixlist1 and mixlist2\n",
    "    repeat the mix list to 3 times \n",
    "    use append function to add items\n",
    "    \n",
    " list_mix1=[\"learn\",24,\"blue\",\"false\",\"-i\"]\n",
    " list_mix2=[4,7,\"summer\"]"
   ]
  },
  {
   "cell_type": "code",
   "execution_count": 3,
   "id": "0b555817",
   "metadata": {},
   "outputs": [],
   "source": [
    "list_mix1=[\"learn\",24,\"blue\",\"false\",\"-i\"]\n",
    "list_mix2=[4,7,\"summer\"]"
   ]
  },
  {
   "cell_type": "code",
   "execution_count": 5,
   "id": "bcc952d1",
   "metadata": {},
   "outputs": [
    {
     "name": "stdout",
     "output_type": "stream",
     "text": [
      "5 3\n"
     ]
    }
   ],
   "source": [
    " print(len(list_mix1),len(list_mix2))"
   ]
  },
  {
   "cell_type": "code",
   "execution_count": 9,
   "id": "942a1c36",
   "metadata": {},
   "outputs": [
    {
     "name": "stdout",
     "output_type": "stream",
     "text": [
      "learn\n",
      "24\n",
      "blue\n",
      "false\n",
      "-i\n",
      "24 is present \n"
     ]
    }
   ],
   "source": [
    "for i in list_mix1:\n",
    "    print(i)\n",
    "if 24 in list_mix1:\n",
    "    print(\"24 is present \")\n",
    "else:\n",
    "    print(\"not present in list \")"
   ]
  },
  {
   "cell_type": "markdown",
   "id": "02163eed",
   "metadata": {},
   "source": [
    "# CONCATING"
   ]
  },
  {
   "cell_type": "code",
   "execution_count": 10,
   "id": "d4ad2c04",
   "metadata": {},
   "outputs": [
    {
     "name": "stdout",
     "output_type": "stream",
     "text": [
      "['learn', 24, 'blue', 'false', '-i', 4, 7, 'summer']\n"
     ]
    }
   ],
   "source": [
    "print(list_mix1+list_mix2)"
   ]
  },
  {
   "cell_type": "code",
   "execution_count": 16,
   "id": "c9ea9132",
   "metadata": {},
   "outputs": [
    {
     "name": "stdout",
     "output_type": "stream",
     "text": [
      "['learn', 24, 'blue', 'false', '-i', 4, 7, 'summer', [4, 7, 'summer'], [4, 7, 'summer'], [4, 7, 'summer']]\n"
     ]
    }
   ],
   "source": [
    "list_mix1.append(list_mix2)\n",
    "print(list_mix1)"
   ]
  },
  {
   "cell_type": "markdown",
   "id": "c6f06bde",
   "metadata": {},
   "source": [
    "# printing multiple times "
   ]
  },
  {
   "cell_type": "code",
   "execution_count": 17,
   "id": "2b479f10",
   "metadata": {},
   "outputs": [
    {
     "name": "stdout",
     "output_type": "stream",
     "text": [
      "[4, 7, 'summer', 4, 7, 'summer', 4, 7, 'summer']\n"
     ]
    }
   ],
   "source": [
    "print(list_mix2*3)\n"
   ]
  },
  {
   "cell_type": "code",
   "execution_count": 19,
   "id": "f4ec0f13",
   "metadata": {},
   "outputs": [
    {
     "name": "stdout",
     "output_type": "stream",
     "text": [
      "[4, 7, 'summer', ['hello', 'world']]\n"
     ]
    }
   ],
   "source": [
    "list_mix2.append([\"hello\",\"world\"])\n",
    "print(list_mix2)"
   ]
  },
  {
   "cell_type": "markdown",
   "id": "01dd7b1e",
   "metadata": {},
   "source": [
    "# read about :\n",
    "    list comprehension \n",
    "    tuple and dictionary also \n",
    "    recursion \n",
    "    lambda function \n",
    "    anamolous function"
   ]
  },
  {
   "cell_type": "markdown",
   "id": "b5098e2e",
   "metadata": {},
   "source": [
    "# list comprehension->provide shorthand notation for accessing elements of the list "
   ]
  },
  {
   "cell_type": "code",
   "execution_count": 25,
   "id": "e5ab5f93",
   "metadata": {},
   "outputs": [
    {
     "name": "stdout",
     "output_type": "stream",
     "text": [
      "apple\n",
      "banana\n",
      "cherry\n"
     ]
    },
    {
     "data": {
      "text/plain": [
       "[None, None, None]"
      ]
     },
     "execution_count": 25,
     "metadata": {},
     "output_type": "execute_result"
    }
   ],
   "source": [
    "thislist = [\"apple\", \"banana\", \"cherry\"]\n",
    "[print(x) for x in thislist]"
   ]
  },
  {
   "cell_type": "code",
   "execution_count": 27,
   "id": "d1cf4b5a",
   "metadata": {},
   "outputs": [
    {
     "name": "stdout",
     "output_type": "stream",
     "text": [
      "['apple', 'banana', 'mango']\n"
     ]
    }
   ],
   "source": [
    "fruits = [\"apple\", \"banana\", \"cherry\", \"kiwi\", \"mango\"]\n",
    "newlist = []\n",
    "\n",
    "#check if it contains a then append \n",
    "for x in fruits:\n",
    "    if 'a' in x:\n",
    "        newlist.append(x)\n",
    "print(newlist)"
   ]
  },
  {
   "cell_type": "code",
   "execution_count": 32,
   "id": "923088ac",
   "metadata": {},
   "outputs": [
    {
     "name": "stdout",
     "output_type": "stream",
     "text": [
      "['apple', 'banana', 'mango']\n",
      "['banana', 'cherry', 'kiwi', 'mango']\n"
     ]
    }
   ],
   "source": [
    "fruits = [\"apple\", \"banana\", \"cherry\", \"kiwi\", \"mango\"]\n",
    "newlist=[x for x in fruits if \"a\" in x]\n",
    "print(newlist)\n",
    "\n",
    "list2=[x for x in fruits if x!=\"apple\"]\n",
    "print(list2)"
   ]
  },
  {
   "cell_type": "code",
   "execution_count": 46,
   "id": "080fc7c0",
   "metadata": {},
   "outputs": [
    {
     "name": "stdout",
     "output_type": "stream",
     "text": [
      "[0, 1, 2, 3, 4]\n"
     ]
    }
   ],
   "source": [
    "list1=[x for x in range(10) if x<5]\n",
    "print(list1)"
   ]
  },
  {
   "cell_type": "code",
   "execution_count": 48,
   "id": "a90fd98c",
   "metadata": {},
   "outputs": [
    {
     "name": "stdout",
     "output_type": "stream",
     "text": [
      "['APPLE', 'BANANA', 'CHERRY', 'KIWI', 'MANGO']\n"
     ]
    }
   ],
   "source": [
    "list2=[x.upper() for x in fruits]\n",
    "print(list2)"
   ]
  },
  {
   "cell_type": "code",
   "execution_count": 56,
   "id": "127d01b1",
   "metadata": {
    "scrolled": true
   },
   "outputs": [
    {
     "name": "stdout",
     "output_type": "stream",
     "text": [
      "['orange', 'banana', 'cherry', 'kiwi', 'mango']\n",
      "['banana', 'cherry', 'kiwi', 'mango', 'orange']\n",
      "['orange', 'mango', 'kiwi', 'cherry', 'banana']\n"
     ]
    }
   ],
   "source": [
    "fruits1 = [\"apple\", \"banana\", \"cherry\", \"kiwi\", \"mango\"]\n",
    "\n",
    "hello=[x if x!=\"apple\" else \"orange\" for x in fruits1]\n",
    "print(hello)\n",
    "hello.sort()\n",
    "print(hello)\n",
    "\n",
    "\n",
    "hello.reverse()\n",
    "print(hello)"
   ]
  },
  {
   "cell_type": "code",
   "execution_count": 53,
   "id": "6e8a101b",
   "metadata": {},
   "outputs": [
    {
     "name": "stdout",
     "output_type": "stream",
     "text": [
      "[100, 82, 65, 50, 23]\n"
     ]
    }
   ],
   "source": [
    "thislist = [100, 50, 65, 82, 23]\n",
    "thislist.sort(reverse=True)\n",
    "print(thislist)"
   ]
  },
  {
   "cell_type": "code",
   "execution_count": null,
   "id": "3aa5c3be",
   "metadata": {},
   "outputs": [],
   "source": []
  }
 ],
 "metadata": {
  "kernelspec": {
   "display_name": "Python 3 (ipykernel)",
   "language": "python",
   "name": "python3"
  },
  "language_info": {
   "codemirror_mode": {
    "name": "ipython",
    "version": 3
   },
   "file_extension": ".py",
   "mimetype": "text/x-python",
   "name": "python",
   "nbconvert_exporter": "python",
   "pygments_lexer": "ipython3",
   "version": "3.11.0"
  }
 },
 "nbformat": 4,
 "nbformat_minor": 5
}
