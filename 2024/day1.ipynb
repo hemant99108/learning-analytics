{
 "cells": [
  {
   "cell_type": "markdown",
   "id": "5cd8abd4",
   "metadata": {},
   "source": [
    "# basics of python"
   ]
  },
  {
   "cell_type": "code",
   "execution_count": 7,
   "id": "b72f566b",
   "metadata": {},
   "outputs": [
    {
     "name": "stdout",
     "output_type": "stream",
     "text": [
      "hello world\n"
     ]
    }
   ],
   "source": [
    "a=\"hello \"\n",
    "b=\"world\"\n",
    "c=a+b\n",
    "print(c)"
   ]
  },
  {
   "cell_type": "code",
   "execution_count": 21,
   "id": "c8136a35",
   "metadata": {},
   "outputs": [
    {
     "name": "stdout",
     "output_type": "stream",
     "text": [
      "5 x 1 = 5\n",
      "5 x 2 = 10\n",
      "5 x 3 = 15\n",
      "5 x 4 = 20\n",
      "5 x 5 = 25\n",
      "5 x 6 = 30\n",
      "5 x 7 = 35\n",
      "5 x 8 = 40\n",
      "5 x 9 = 45\n",
      "5 x 10 = 50\n"
     ]
    }
   ],
   "source": [
    "#get multiple of 5\n",
    "x=5\n",
    "for i in range(1,11):\n",
    "        print(\"5 x\",i,\"=\",x*i)"
   ]
  },
  {
   "cell_type": "code",
   "execution_count": 31,
   "id": "156e6ec8",
   "metadata": {},
   "outputs": [
    {
     "name": "stdout",
     "output_type": "stream",
     "text": [
      "enter first value3\n",
      "enter second value3\n",
      "other is greater\n"
     ]
    }
   ],
   "source": [
    "#a no is greater than the other using\n",
    "\n",
    "a=input(\"enter first value\")\n",
    "b=input(\"enter second value\")\n",
    "if(a>b):\n",
    "    print(a,\" is greater than \",b)\n",
    "else:\n",
    "    print(\"other is greater\")"
   ]
  },
  {
   "cell_type": "code",
   "execution_count": null,
   "id": "744d2104",
   "metadata": {},
   "outputs": [],
   "source": [
    "#divisible by 7 or not \n",
    "\n",
    "def divisible(n):\n",
    "    if(n%7==0):\n",
    "        return \"divisible\"\n",
    "    else:\n",
    "        return \"not divisible\"\n",
    "\n",
    "divisible(int(input(\"enter number to check divisiblity\")))\n"
   ]
  },
  {
   "cell_type": "code",
   "execution_count": null,
   "id": "d1c0a6ca",
   "metadata": {},
   "outputs": [],
   "source": [
    "# factorial of a number\n",
    "\n",
    "def fact(n):\n",
    "    if(n==0 or n==1):\n",
    "        return 1;\n",
    "    else:\n",
    "        return n*(n-1)\n",
    "        \n",
    "fact(int(input(\"enter your number \")))\n"
   ]
  },
  {
   "cell_type": "code",
   "execution_count": 64,
   "id": "8241da54",
   "metadata": {},
   "outputs": [
    {
     "name": "stdout",
     "output_type": "stream",
     "text": [
      "enter  no to find factorial 8\n"
     ]
    },
    {
     "data": {
      "text/plain": [
       "40320"
      ]
     },
     "execution_count": 64,
     "metadata": {},
     "output_type": "execute_result"
    }
   ],
   "source": [
    "#another way of finding factorial\n",
    "\n",
    "def fact(n):\n",
    "    result=1\n",
    "    for i in range(1,n+1):\n",
    "        result*=i\n",
    "    return result\n",
    "fact(int(input(\"enter  no to find factorial \")))\n"
   ]
  },
  {
   "cell_type": "code",
   "execution_count": null,
   "id": "6696d4b8",
   "metadata": {},
   "outputs": [],
   "source": []
  },
  {
   "cell_type": "code",
   "execution_count": null,
   "id": "63765d1d",
   "metadata": {},
   "outputs": [],
   "source": []
  },
  {
   "cell_type": "code",
   "execution_count": 2,
   "id": "df8835be",
   "metadata": {},
   "outputs": [
    {
     "name": "stdout",
     "output_type": "stream",
     "text": [
      "enter the number6\n",
      "6 is not a prime\n"
     ]
    }
   ],
   "source": [
    "#prime or not\n",
    "\n",
    "\n",
    "def prime(n):\n",
    "    if n<=1:\n",
    "        return False\n",
    "    elif n<=3:\n",
    "        return True\n",
    "    elif n%2==0 or n%3==0:\n",
    "        return False\n",
    "    i=5\n",
    "    while i*i<=n:\n",
    "        if n%i==0 or n%(i+2)==0:\n",
    "            return False\n",
    "        i+=6\n",
    "    return True\n",
    "\n",
    "number=int(input(\"enter the number\"))\n",
    "\n",
    "if prime(number):\n",
    "    print(number,\"is a prime number\")\n",
    "else:\n",
    "    print(number,\"is not a prime\")\n"
   ]
  },
  {
   "cell_type": "code",
   "execution_count": 2,
   "id": "e8fbdb5b",
   "metadata": {},
   "outputs": [
    {
     "name": "stdout",
     "output_type": "stream",
     "text": [
      "ou\n"
     ]
    }
   ],
   "source": [
    "h=\"country\"\n",
    "print(h[1:3])"
   ]
  },
  {
   "cell_type": "markdown",
   "id": "e9a521b7",
   "metadata": {},
   "source": [
    "# write a code to get today and sunny"
   ]
  },
  {
   "cell_type": "code",
   "execution_count": 25,
   "id": "a6efbc4f",
   "metadata": {},
   "outputs": [
    {
     "name": "stdout",
     "output_type": "stream",
     "text": [
      "today is\n"
     ]
    },
    {
     "data": {
      "text/plain": [
       "'sunny'"
      ]
     },
     "execution_count": 25,
     "metadata": {},
     "output_type": "execute_result"
    }
   ],
   "source": [
    "a=\"today is sunny day\" \n",
    "a=a.split(\" \")\n",
    "print(a[0],a[2])"
   ]
  },
  {
   "cell_type": "code",
   "execution_count": 11,
   "id": "03361c03",
   "metadata": {},
   "outputs": [
    {
     "name": "stdout",
     "output_type": "stream",
     "text": [
      "\n"
     ]
    }
   ],
   "source": [
    "a=\"today is sunny day\" \n",
    "print(a[-1:3])"
   ]
  },
  {
   "cell_type": "raw",
   "id": "2ec6c034",
   "metadata": {},
   "source": [
    "wap to perform following operations on the list given below \n",
    "    check the length of mix_list1\n",
    "    check the membership of 24 mix_list1\n",
    "    concat the mixlist1 and mixlist2\n",
    "    repeat the mix list to 3 times \n",
    "    use append function to add items\n",
    "    \n",
    " list_mix1=[\"learn\",24,\"blue\",\"false\",\"-i\"]\n",
    " list_mix2=[4,7,\"summer\"]\n"
   ]
  },
  {
   "cell_type": "code",
   "execution_count": 19,
   "id": "4a05e62d",
   "metadata": {},
   "outputs": [
    {
     "name": "stdout",
     "output_type": "stream",
     "text": [
      "5\n",
      "learn\n",
      "24\n",
      "blue\n",
      "false\n",
      "-i\n",
      "['learn', 24, 'blue', 'false', '-i', [4, 7, 'summer']]\n"
     ]
    }
   ],
   "source": [
    "list_mix1=[\"learn\",24,\"blue\",\"false\",\"-i\"]\n",
    "list_mix2=[4,7,\"summer\"]\n",
    "\n",
    "print(len(list_mix1))\n",
    "\n",
    "for x in list_mix1:\n",
    "     print(x)\n",
    "list_mix1.append(list_mix2)\n",
    "print(list_mix1)"
   ]
  },
  {
   "cell_type": "code",
   "execution_count": 23,
   "id": "0f2a0de4",
   "metadata": {},
   "outputs": [
    {
     "name": "stdout",
     "output_type": "stream",
     "text": [
      "0\n",
      "2\n",
      "4\n",
      "6\n",
      "8\n",
      "10\n",
      "12\n",
      "14\n",
      "16\n",
      "18\n",
      "20\n",
      "22\n",
      "24\n",
      "26\n",
      "28\n",
      "30\n",
      "32\n",
      "34\n",
      "36\n",
      "38\n",
      "40\n",
      "42\n",
      "44\n",
      "46\n",
      "48\n",
      "50\n",
      "52\n",
      "54\n",
      "56\n",
      "58\n",
      "60\n",
      "62\n",
      "64\n",
      "66\n",
      "68\n",
      "70\n",
      "72\n",
      "74\n",
      "76\n",
      "78\n",
      "80\n",
      "82\n",
      "84\n",
      "86\n",
      "88\n",
      "90\n",
      "92\n",
      "94\n",
      "96\n",
      "98\n"
     ]
    }
   ],
   "source": [
    "for i in range(0,100,2):\n",
    "    print(i)"
   ]
  },
  {
   "cell_type": "code",
   "execution_count": null,
   "id": "033f0e67",
   "metadata": {},
   "outputs": [],
   "source": [
    "read about :\n",
    "    list comprehension \n",
    "    tuple and dictionary also \n",
    "    recursion \n",
    "    lambda function \n",
    "    anamolous function\n",
    "    \n",
    "    "
   ]
  },
  {
   "cell_type": "code",
   "execution_count": 24,
   "id": "c153bd2b",
   "metadata": {},
   "outputs": [
    {
     "name": "stdout",
     "output_type": "stream",
     "text": [
      "enter rhe stringhaaaat \n",
      "['h', 'a', 'a', 'a', 'a', 't', ' ']\n"
     ]
    }
   ],
   "source": [
    "a=str(input(\"enter rhe string\"))\n",
    "b=[]\n",
    "for i in a:\n",
    "    if \"a\" in a:\n",
    "        b.append(i)\n",
    "print(b)"
   ]
  },
  {
   "cell_type": "code",
   "execution_count": null,
   "id": "3537d574",
   "metadata": {},
   "outputs": [],
   "source": []
  }
 ],
 "metadata": {
  "kernelspec": {
   "display_name": "Python 3 (ipykernel)",
   "language": "python",
   "name": "python3"
  },
  "language_info": {
   "codemirror_mode": {
    "name": "ipython",
    "version": 3
   },
   "file_extension": ".py",
   "mimetype": "text/x-python",
   "name": "python",
   "nbconvert_exporter": "python",
   "pygments_lexer": "ipython3",
   "version": "3.11.0"
  }
 },
 "nbformat": 4,
 "nbformat_minor": 5
}
